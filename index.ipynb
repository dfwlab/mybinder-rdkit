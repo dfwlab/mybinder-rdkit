# Hello World
print("Hello, RDKit on Binder!")

# RDKit 基本测试
from rdkit import Chem
from rdkit.Chem import Draw

# 创建一个分子对象（苯）
mol = Chem.MolFromSmiles("c1ccccc1")

# 显示分子
Draw.MolToImage(mol)
